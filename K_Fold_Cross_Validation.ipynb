{
  "nbformat": 4,
  "nbformat_minor": 0,
  "metadata": {
    "colab": {
      "provenance": [],
      "authorship_tag": "ABX9TyOQJ2YeyQSyQ1+CYuPbfSoN",
      "include_colab_link": true
    },
    "kernelspec": {
      "name": "python3",
      "display_name": "Python 3"
    },
    "language_info": {
      "name": "python"
    }
  },
  "cells": [
    {
      "cell_type": "markdown",
      "metadata": {
        "id": "view-in-github",
        "colab_type": "text"
      },
      "source": [
        "<a href=\"https://colab.research.google.com/github/Abhinav4518/Abhinav4518/blob/main/K_Fold_Cross_Validation.ipynb\" target=\"_parent\"><img src=\"https://colab.research.google.com/assets/colab-badge.svg\" alt=\"Open In Colab\"/></a>"
      ]
    },
    {
      "cell_type": "code",
      "execution_count": 1,
      "metadata": {
        "id": "kY-vVCnnKsDj"
      },
      "outputs": [],
      "source": [
        "import numpy as np\n",
        "import pandas as pd\n",
        "from sklearn.model_selection import train_test_split\n",
        "from sklearn.model_selection import cross_val_score\n",
        "from sklearn.metrics import accuracy_score"
      ]
    },
    {
      "cell_type": "code",
      "source": [
        "#importing the models\n",
        "from sklearn.linear_model import LogisticRegression\n",
        "from sklearn.svm import SVC\n",
        "from sklearn.neighbors import KNeighborsClassifier\n",
        "from sklearn.ensemble import RandomForestClassifier"
      ],
      "metadata": {
        "id": "d-Ed-rnFLVpe"
      },
      "execution_count": 2,
      "outputs": []
    },
    {
      "cell_type": "code",
      "source": [
        "#Data Collection and PreProcessing\n",
        "heart_data=pd.read_csv('/content/heart.csv');"
      ],
      "metadata": {
        "id": "YqwCbsPHMNG1"
      },
      "execution_count": 3,
      "outputs": []
    },
    {
      "cell_type": "code",
      "source": [
        "#splitting the data into features and target\n",
        "X=heart_data.drop(columns='target',axis=1)\n",
        "Y=heart_data['target']"
      ],
      "metadata": {
        "id": "WpRD6aHUMhfZ"
      },
      "execution_count": 4,
      "outputs": []
    },
    {
      "cell_type": "code",
      "source": [
        "print(X)"
      ],
      "metadata": {
        "colab": {
          "base_uri": "https://localhost:8080/"
        },
        "id": "N0HlwpnYMze7",
        "outputId": "e51726d1-76e9-476d-9f29-a79467484ac4"
      },
      "execution_count": 5,
      "outputs": [
        {
          "output_type": "stream",
          "name": "stdout",
          "text": [
            "      age  sex  cp  trestbps  chol  ...  exang  oldpeak  slope  ca  thal\n",
            "0      52    1   0       125   212  ...      0      1.0      2   2     3\n",
            "1      53    1   0       140   203  ...      1      3.1      0   0     3\n",
            "2      70    1   0       145   174  ...      1      2.6      0   0     3\n",
            "3      61    1   0       148   203  ...      0      0.0      2   1     3\n",
            "4      62    0   0       138   294  ...      0      1.9      1   3     2\n",
            "...   ...  ...  ..       ...   ...  ...    ...      ...    ...  ..   ...\n",
            "1020   59    1   1       140   221  ...      1      0.0      2   0     2\n",
            "1021   60    1   0       125   258  ...      1      2.8      1   1     3\n",
            "1022   47    1   0       110   275  ...      1      1.0      1   1     2\n",
            "1023   50    0   0       110   254  ...      0      0.0      2   0     2\n",
            "1024   54    1   0       120   188  ...      0      1.4      1   1     3\n",
            "\n",
            "[1025 rows x 13 columns]\n"
          ]
        }
      ]
    },
    {
      "cell_type": "code",
      "source": [
        "#Training and Testing Split\n",
        "x_train,x_test,y_train,y_test=train_test_split(X,Y,test_size=0.2,stratify=Y,random_state=3)\n"
      ],
      "metadata": {
        "id": "F0tPLJ6AM94w"
      },
      "execution_count": 6,
      "outputs": []
    },
    {
      "cell_type": "code",
      "source": [
        "print(X.shape,x_train.shape,x_test.shape)"
      ],
      "metadata": {
        "colab": {
          "base_uri": "https://localhost:8080/"
        },
        "id": "nkejwY8DNq40",
        "outputId": "b0c72c03-9422-46d5-cb5c-769c078a97b4"
      },
      "execution_count": 7,
      "outputs": [
        {
          "output_type": "stream",
          "name": "stdout",
          "text": [
            "(1025, 13) (820, 13) (205, 13)\n"
          ]
        }
      ]
    },
    {
      "cell_type": "code",
      "source": [
        "#Comparing the performance of Models\n",
        "models=[LogisticRegression(max_iter=1000),SVC(kernel='linear'),KNeighborsClassifier(),RandomForestClassifier()]"
      ],
      "metadata": {
        "id": "C4SV42gXN0n9"
      },
      "execution_count": 8,
      "outputs": []
    },
    {
      "cell_type": "code",
      "source": [
        "def compare_models_train_test():\n",
        "  for model in models:\n",
        "    model.fit(x_train,y_train)\n",
        "    test_data_prediction=model.predict(x_test)\n",
        "    accuracy=accuracy_score(y_test,test_data_prediction)\n",
        "    print('Accuracy Score of the ', model, '=',accuracy)"
      ],
      "metadata": {
        "id": "dcrcHaevOLrY"
      },
      "execution_count": 9,
      "outputs": []
    },
    {
      "cell_type": "code",
      "source": [
        "compare_models_train_test()"
      ],
      "metadata": {
        "colab": {
          "base_uri": "https://localhost:8080/"
        },
        "id": "WMX3dgW2PLMw",
        "outputId": "a9bc6000-a7f3-4e6d-eb4e-48c31d749ac5"
      },
      "execution_count": 10,
      "outputs": [
        {
          "output_type": "stream",
          "name": "stderr",
          "text": [
            "/usr/local/lib/python3.11/dist-packages/sklearn/linear_model/_logistic.py:465: ConvergenceWarning: lbfgs failed to converge (status=1):\n",
            "STOP: TOTAL NO. OF ITERATIONS REACHED LIMIT.\n",
            "\n",
            "Increase the number of iterations (max_iter) or scale the data as shown in:\n",
            "    https://scikit-learn.org/stable/modules/preprocessing.html\n",
            "Please also refer to the documentation for alternative solver options:\n",
            "    https://scikit-learn.org/stable/modules/linear_model.html#logistic-regression\n",
            "  n_iter_i = _check_optimize_result(\n"
          ]
        },
        {
          "output_type": "stream",
          "name": "stdout",
          "text": [
            "Accuracy Score of the  LogisticRegression() = 0.8390243902439024\n",
            "Accuracy Score of the  SVC(kernel='linear') = 0.824390243902439\n",
            "Accuracy Score of the  KNeighborsClassifier() = 0.7560975609756098\n",
            "Accuracy Score of the  RandomForestClassifier() = 1.0\n"
          ]
        }
      ]
    },
    {
      "cell_type": "code",
      "source": [
        "def compare_models_test_train():\n",
        "  for model in models:\n",
        "    model.fit(x_test,y_test)\n",
        "    train_data_prediction=model.predict(x_train)\n",
        "    accuracy=accuracy_score(y_train,train_data_prediction)\n",
        "    print('Accuracy Score of the ', model, '=',accuracy)\n",
        "\n",
        "\n",
        "compare_models_test_train()"
      ],
      "metadata": {
        "colab": {
          "base_uri": "https://localhost:8080/"
        },
        "id": "WZayoiDdPs7y",
        "outputId": "bb6c9945-e3d2-4678-ae5a-172437951c76"
      },
      "execution_count": 11,
      "outputs": [
        {
          "output_type": "stream",
          "name": "stderr",
          "text": [
            "/usr/local/lib/python3.11/dist-packages/sklearn/linear_model/_logistic.py:465: ConvergenceWarning: lbfgs failed to converge (status=1):\n",
            "STOP: TOTAL NO. OF ITERATIONS REACHED LIMIT.\n",
            "\n",
            "Increase the number of iterations (max_iter) or scale the data as shown in:\n",
            "    https://scikit-learn.org/stable/modules/preprocessing.html\n",
            "Please also refer to the documentation for alternative solver options:\n",
            "    https://scikit-learn.org/stable/modules/linear_model.html#logistic-regression\n",
            "  n_iter_i = _check_optimize_result(\n"
          ]
        },
        {
          "output_type": "stream",
          "name": "stdout",
          "text": [
            "Accuracy Score of the  LogisticRegression() = 0.8268292682926829\n",
            "Accuracy Score of the  SVC(kernel='linear') = 0.8195121951219512\n",
            "Accuracy Score of the  KNeighborsClassifier() = 0.6634146341463415\n",
            "Accuracy Score of the  RandomForestClassifier() = 0.8853658536585366\n"
          ]
        }
      ]
    },
    {
      "cell_type": "markdown",
      "source": [
        "#Cross Validation"
      ],
      "metadata": {
        "id": "ztKJqmVzRRCc"
      }
    },
    {
      "cell_type": "code",
      "source": [
        "#logistic Regression\n",
        "cv_score_lr=cross_val_score(LogisticRegression(max_iter=1000),X,Y,cv=5)\n",
        "print(cv_score_lr)\n",
        "mean_accuracy_lr=sum(cv_score_lr)/len(cv_score_lr)\n",
        "mean_accuracy_lr=round(mean_accuracy_lr*100,2)\n",
        "print(mean_accuracy_lr)"
      ],
      "metadata": {
        "colab": {
          "base_uri": "https://localhost:8080/"
        },
        "id": "JMHzi3GqRVXf",
        "outputId": "94e516c8-ab49-4f40-f272-32600578b4a6"
      },
      "execution_count": 13,
      "outputs": [
        {
          "output_type": "stream",
          "name": "stderr",
          "text": [
            "/usr/local/lib/python3.11/dist-packages/sklearn/linear_model/_logistic.py:465: ConvergenceWarning: lbfgs failed to converge (status=1):\n",
            "STOP: TOTAL NO. OF ITERATIONS REACHED LIMIT.\n",
            "\n",
            "Increase the number of iterations (max_iter) or scale the data as shown in:\n",
            "    https://scikit-learn.org/stable/modules/preprocessing.html\n",
            "Please also refer to the documentation for alternative solver options:\n",
            "    https://scikit-learn.org/stable/modules/linear_model.html#logistic-regression\n",
            "  n_iter_i = _check_optimize_result(\n"
          ]
        },
        {
          "output_type": "stream",
          "name": "stdout",
          "text": [
            "[0.88292683 0.85853659 0.87804878 0.82439024 0.80487805]\n",
            "84.98\n"
          ]
        }
      ]
    },
    {
      "cell_type": "code",
      "source": [
        "#Support Vector Classifier\n",
        "cv_score_svc=cross_val_score(SVC(kernel='linear'),X,Y,cv=5)\n",
        "print(cv_score_svc)\n",
        "mean_accuracy_svc=sum(cv_score_svc)/len(cv_score_svc)\n",
        "mean_accuracy_svc=round(mean_accuracy_svc*100,2)\n",
        "print(mean_accuracy_svc)"
      ],
      "metadata": {
        "colab": {
          "base_uri": "https://localhost:8080/"
        },
        "id": "N4Cps0X3S96I",
        "outputId": "8e527b1f-7b20-4b16-86dd-9dc575e5d9fe"
      },
      "execution_count": 14,
      "outputs": [
        {
          "output_type": "stream",
          "name": "stdout",
          "text": [
            "[0.88292683 0.86829268 0.84390244 0.81463415 0.80487805]\n",
            "84.29\n"
          ]
        }
      ]
    },
    {
      "cell_type": "code",
      "source": [
        "#K-Neighbours\n",
        "cv_score_kn=cross_val_score(KNeighborsClassifier(),X,Y,cv=5)\n",
        "print(cv_score_kn)\n",
        "mean_accuracy_kn=sum(cv_score_kn)/len(cv_score_kn)\n",
        "mean_accuracy_lr=round(mean_accuracy_kn*100,2)\n",
        "print(mean_accuracy_kn)"
      ],
      "metadata": {
        "colab": {
          "base_uri": "https://localhost:8080/"
        },
        "id": "SXIIjxZQTXTS",
        "outputId": "f5368842-95f7-41b2-de48-e95ce755c7d2"
      },
      "execution_count": 15,
      "outputs": [
        {
          "output_type": "stream",
          "name": "stdout",
          "text": [
            "[0.76585366 0.74634146 0.76097561 0.71219512 0.75121951]\n",
            "0.7473170731707317\n"
          ]
        }
      ]
    },
    {
      "cell_type": "code",
      "source": [
        "#Random Forest\n",
        "cv_score_rf=cross_val_score(RandomForestClassifier(),X,Y,cv=5)\n",
        "print(cv_score_rf)\n",
        "mean_accuracy_rf=sum(cv_score_rf)/len(cv_score_rf)\n",
        "mean_accuracy_rf=round(mean_accuracy_rf*100,2)\n",
        "print(mean_accuracy_rf)"
      ],
      "metadata": {
        "colab": {
          "base_uri": "https://localhost:8080/"
        },
        "id": "0WboTTMUTqlZ",
        "outputId": "73dd919e-dc6b-4d2b-8c9e-7801e5eb081c"
      },
      "execution_count": 16,
      "outputs": [
        {
          "output_type": "stream",
          "name": "stdout",
          "text": [
            "[1.         1.         0.98536585 1.         0.98536585]\n",
            "99.41\n"
          ]
        }
      ]
    }
  ]
}