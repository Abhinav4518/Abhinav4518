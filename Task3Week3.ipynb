{
  "nbformat": 4,
  "nbformat_minor": 0,
  "metadata": {
    "colab": {
      "provenance": [],
      "authorship_tag": "ABX9TyPFmKIsQgFk2ifTXZD9jy3T",
      "include_colab_link": true
    },
    "kernelspec": {
      "name": "python3",
      "display_name": "Python 3"
    },
    "language_info": {
      "name": "python"
    }
  },
  "cells": [
    {
      "cell_type": "markdown",
      "metadata": {
        "id": "view-in-github",
        "colab_type": "text"
      },
      "source": [
        "<a href=\"https://colab.research.google.com/github/Abhinav4518/Abhinav4518/blob/main/Task3Week3.ipynb\" target=\"_parent\"><img src=\"https://colab.research.google.com/assets/colab-badge.svg\" alt=\"Open In Colab\"/></a>"
      ]
    },
    {
      "cell_type": "code",
      "execution_count": 2,
      "metadata": {
        "id": "gToYw46tiSFF"
      },
      "outputs": [],
      "source": [
        "import pandas as pd\n",
        "from sklearn.metrics.pairwise import cosine_similarity\n",
        "from scipy.sparse import csr_matrix\n"
      ]
    },
    {
      "cell_type": "code",
      "source": [
        "try:\n",
        "    movies = pd.read_csv('movies.csv')\n",
        "    ratings = pd.read_csv('ratings.csv')\n",
        "except FileNotFoundError:\n",
        "    print(\"Error: 'movies.csv' or 'ratings.csv' not found. Please download the dataset and place files in the same directory.\")\n",
        "    exit()\n"
      ],
      "metadata": {
        "id": "MkqNgY1gi3lR"
      },
      "execution_count": 3,
      "outputs": []
    },
    {
      "cell_type": "code",
      "source": [
        "df = pd.merge(ratings, movies, on='movieId')\n",
        "\n",
        "print(\"\\nMerged Dataset Head:\")\n",
        "print(df.head())\n",
        "\n"
      ],
      "metadata": {
        "colab": {
          "base_uri": "https://localhost:8080/"
        },
        "id": "Ax-HgVNTi9mK",
        "outputId": "a9cac209-b9a4-4894-bf5e-8ee7c1062910"
      },
      "execution_count": 4,
      "outputs": [
        {
          "output_type": "stream",
          "name": "stdout",
          "text": [
            "\n",
            "Merged Dataset Head:\n",
            "   userId  movieId rating     timestamp  \\\n",
            "0       1      296    5.0  1.147880e+09   \n",
            "1       1      306    3.5  1.147869e+09   \n",
            "2       1      307    5.0  1.147869e+09   \n",
            "3       1      665    5.0  1.147879e+09   \n",
            "4       1      899    3.5  1.147869e+09   \n",
            "\n",
            "                                              title  \\\n",
            "0                               Pulp Fiction (1994)   \n",
            "1  Three Colors: Red (Trois couleurs: Rouge) (1994)   \n",
            "2  Three Colors: Blue (Trois couleurs: Bleu) (1993)   \n",
            "3                                Underground (1995)   \n",
            "4                        Singin' in the Rain (1952)   \n",
            "\n",
            "                        genres  \n",
            "0  Comedy|Crime|Drama|Thriller  \n",
            "1                        Drama  \n",
            "2                        Drama  \n",
            "3             Comedy|Drama|War  \n",
            "4       Comedy|Musical|Romance  \n"
          ]
        }
      ]
    },
    {
      "cell_type": "code",
      "source": [
        "print(\"\\nOriginal data type of 'rating' column:\", df['rating'].dtype)\n"
      ],
      "metadata": {
        "colab": {
          "base_uri": "https://localhost:8080/"
        },
        "id": "XrRhh9l6jeI3",
        "outputId": "9d3eb5e8-3095-425b-d386-22269c224aca"
      },
      "execution_count": 6,
      "outputs": [
        {
          "output_type": "stream",
          "name": "stdout",
          "text": [
            "\n",
            "Original data type of 'rating' column: object\n"
          ]
        }
      ]
    },
    {
      "cell_type": "code",
      "source": [
        "df['rating'] = pd.to_numeric(df['rating'], errors='coerce')"
      ],
      "metadata": {
        "id": "kZgWbpakjf3G"
      },
      "execution_count": 7,
      "outputs": []
    },
    {
      "cell_type": "code",
      "source": [
        "df.dropna(subset=['rating'], inplace=True)"
      ],
      "metadata": {
        "id": "mcdHefA1jka1"
      },
      "execution_count": 8,
      "outputs": []
    },
    {
      "cell_type": "code",
      "source": [
        "print(\"New data type of 'rating' column:\", df['rating'].dtype)"
      ],
      "metadata": {
        "colab": {
          "base_uri": "https://localhost:8080/"
        },
        "id": "_66hBqFXjrFS",
        "outputId": "de645b4f-34ee-4689-fba9-1639bc7bd30e"
      },
      "execution_count": 9,
      "outputs": [
        {
          "output_type": "stream",
          "name": "stdout",
          "text": [
            "New data type of 'rating' column: float64\n"
          ]
        }
      ]
    },
    {
      "cell_type": "code",
      "source": [
        "movie_matrix = df.pivot_table(index='title', columns='userId', values='rating').fillna(0)"
      ],
      "metadata": {
        "id": "4TNVxBC-jCot"
      },
      "execution_count": 10,
      "outputs": []
    },
    {
      "cell_type": "code",
      "source": [
        "movie_matrix_sparse = csr_matrix(movie_matrix.values)\n",
        "\n",
        "print(\"\\nCreated user-item interaction matrix.\")\n"
      ],
      "metadata": {
        "colab": {
          "base_uri": "https://localhost:8080/"
        },
        "id": "9YOkufgoj0us",
        "outputId": "7b52615b-21de-4f8e-ca1f-f2987e4f77bd"
      },
      "execution_count": 11,
      "outputs": [
        {
          "output_type": "stream",
          "name": "stdout",
          "text": [
            "\n",
            "Created user-item interaction matrix.\n"
          ]
        }
      ]
    },
    {
      "cell_type": "code",
      "source": [
        "movie_similarity = cosine_similarity(movie_matrix_sparse)\n",
        "print(\"\\nComputed movie-movie similarity matrix.\")"
      ],
      "metadata": {
        "colab": {
          "base_uri": "https://localhost:8080/"
        },
        "id": "Sn0jM2ccj2qk",
        "outputId": "0afb8c9d-ffc6-4ab8-c129-534585b8b881"
      },
      "execution_count": 12,
      "outputs": [
        {
          "output_type": "stream",
          "name": "stdout",
          "text": [
            "\n",
            "Computed movie-movie similarity matrix.\n"
          ]
        }
      ]
    },
    {
      "cell_type": "code",
      "source": [
        "def get_recommendations(movie_title, similarity_matrix=movie_similarity, matrix=movie_matrix, num_recommendations=10):\n",
        "    \"\"\"\n",
        "    Recommends movies based on a given movie title.\n",
        "    \"\"\"\n",
        "    try:\n",
        "        # Get the index of the movie that matches the title\n",
        "        movie_index = matrix.index.get_loc(movie_title)\n",
        "\n",
        "        # Get the pairwise similarity scores of all movies with that movie\n",
        "        similarity_scores = list(enumerate(similarity_matrix[movie_index]))\n",
        "\n",
        "        # Sort the movies based on the similarity scores\n",
        "        similarity_scores = sorted(similarity_scores, key=lambda x: x[1], reverse=True)\n",
        "\n",
        "        # Get the scores of the top 'num_recommendations' most similar movies (excluding the movie itself)\n",
        "        top_movies_indices = [i[0] for i in similarity_scores[1:num_recommendations+1]]\n",
        "\n",
        "        # Return the top 'num_recommendations' most similar movie titles\n",
        "        recommended_movies = matrix.index[top_movies_indices].tolist()\n",
        "        return recommended_movies\n",
        "\n",
        "    except KeyError:\n",
        "        return f\"Error: Movie '{movie_title}' not found in the dataset. Please check the spelling or try another movie.\"\n"
      ],
      "metadata": {
        "id": "TjvPs1wjkRzQ"
      },
      "execution_count": 13,
      "outputs": []
    },
    {
      "cell_type": "code",
      "source": [
        "movie_to_recommend = 'Toy Story (1995)'\n",
        "recommendations = get_recommendations(movie_to_recommend)"
      ],
      "metadata": {
        "id": "CXkJ7qDlkWe9"
      },
      "execution_count": 14,
      "outputs": []
    },
    {
      "cell_type": "code",
      "source": [
        "if isinstance(recommendations, list):\n",
        "    for i, movie in enumerate(recommendations, 1):\n",
        "        print(f\"{i}. {movie}\")\n",
        "else:\n",
        "    print(recommendations)\n"
      ],
      "metadata": {
        "colab": {
          "base_uri": "https://localhost:8080/"
        },
        "id": "jBkQpAPtkZ84",
        "outputId": "01455a5b-b5cc-4783-a614-11714fb9d319"
      },
      "execution_count": 15,
      "outputs": [
        {
          "output_type": "stream",
          "name": "stdout",
          "text": [
            "1. Back to the Future (1985)\n",
            "2. Star Wars: Episode IV - A New Hope (1977)\n",
            "3. Star Wars: Episode VI - Return of the Jedi (1983)\n",
            "4. Independence Day (a.k.a. ID4) (1996)\n",
            "5. Pulp Fiction (1994)\n",
            "6. Lion King, The (1994)\n",
            "7. Forrest Gump (1994)\n",
            "8. Star Wars: Episode V - The Empire Strikes Back (1980)\n",
            "9. Silence of the Lambs, The (1991)\n",
            "10. Jurassic Park (1993)\n"
          ]
        }
      ]
    },
    {
      "cell_type": "code",
      "source": [
        "movie_to_recommend_2 = 'Jumanji (1995)'\n",
        "recommendations_2 = get_recommendations(movie_to_recommend_2)\n",
        "\n",
        "print(f\"\\n--- Top 10 Movie Recommendations for '{movie_to_recommend_2}' ---\")\n",
        "if isinstance(recommendations_2, list):\n",
        "    for i, movie in enumerate(recommendations_2, 1):\n",
        "        print(f\"{i}. {movie}\")\n",
        "else:\n",
        "    print(recommendations_2)"
      ],
      "metadata": {
        "id": "A5FnMUN1keXU",
        "outputId": "3351cdcf-7bc6-42e0-90e4-b7022c2586f2",
        "colab": {
          "base_uri": "https://localhost:8080/"
        }
      },
      "execution_count": 16,
      "outputs": [
        {
          "output_type": "stream",
          "name": "stdout",
          "text": [
            "\n",
            "--- Top 10 Movie Recommendations for 'Jumanji (1995)' ---\n",
            "1. Home Alone (1990)\n",
            "2. Jurassic Park (1993)\n",
            "3. Mask, The (1994)\n",
            "4. Cliffhanger (1993)\n",
            "5. Mrs. Doubtfire (1993)\n",
            "6. Speed (1994)\n",
            "7. Lion King, The (1994)\n",
            "8. Batman (1989)\n",
            "9. Forrest Gump (1994)\n",
            "10. Beauty and the Beast (1991)\n"
          ]
        }
      ]
    }
  ]
}