{
  "nbformat": 4,
  "nbformat_minor": 0,
  "metadata": {
    "colab": {
      "provenance": [],
      "authorship_tag": "ABX9TyN/jHusZrHxR9hmP7U8gy72",
      "include_colab_link": true
    },
    "kernelspec": {
      "name": "python3",
      "display_name": "Python 3"
    },
    "language_info": {
      "name": "python"
    }
  },
  "cells": [
    {
      "cell_type": "markdown",
      "metadata": {
        "id": "view-in-github",
        "colab_type": "text"
      },
      "source": [
        "<a href=\"https://colab.research.google.com/github/Abhinav4518/Abhinav4518/blob/main/Lasso_Regression_From_Scratch.ipynb\" target=\"_parent\"><img src=\"https://colab.research.google.com/assets/colab-badge.svg\" alt=\"Open In Colab\"/></a>"
      ]
    },
    {
      "cell_type": "code",
      "execution_count": 1,
      "metadata": {
        "id": "HxEg7_7NFzHu"
      },
      "outputs": [],
      "source": [
        "import numpy as np"
      ]
    },
    {
      "cell_type": "code",
      "source": [
        "#creating a class for Lasso Regression\n",
        "\n",
        "class Lasso_Regression():\n",
        "  #initiating hyperparameters\n",
        "  def __init__(self,learning_rate,no_of_iterations,lambda_parameter):\n",
        "    self.learning_rate=learning_rate\n",
        "    self.no_of_iterations=no_of_iterations\n",
        "    self.lambda_parameter=lambda_parameter\n",
        "\n",
        "  #fitting the datasets to the Lasso Regression Model\n",
        "  def fit(self,X,Y):\n",
        "    self.m,self.n=X.shape\n",
        "    self.w=np.zeros(self.n)\n",
        "    self.b=0\n",
        "    self.X=X\n",
        "    self.Y=Y\n",
        "\n",
        "    #implementing gradient descent algorithm\n",
        "    for i in range(no_of_iterations):\n",
        "      self.update_weights()\n",
        "\n",
        "\n",
        "  #updating the weight and bias\n",
        "  def update_weights(self):\n",
        "\n",
        "    #linear equation\n",
        "    Y_prediction=self.predict(self.X)\n",
        "    #gradient for weight\n",
        "    dw=np.zeros(self.n)\n",
        "    #gradient (dw,db)\n",
        "    for i in range(self.n):\n",
        "      if(self.w[i]>0):\n",
        "        dw[i]=(-(2*(self.X[:,i]).dot(self.Y-Y_prediction))+self.lambda_parameter)/self.m\n",
        "      else:\n",
        "        dw[i]=(-(2*(self.X[:,i]).dot(self.Y-Y_prediction))-self.lambda_parameter)/self.m\n",
        "    #gradient for bias\n",
        "    db=-2*np.sum(self.Y-Y_prediction)/self.m\n",
        "\n",
        "\n",
        "    #updating the weight and bias\n",
        "\n",
        "    self.w=self.w-self.learning_rate*dw\n",
        "    self.b=self.b-self.learning_rate*db\n",
        "\n",
        "\n",
        "\n",
        "  #predicting the target variable\n",
        "  def predict(self,X):\n",
        "     return X.dot(self.w)+self.b"
      ],
      "metadata": {
        "id": "L8sUcSrDHyqP"
      },
      "execution_count": 3,
      "outputs": []
    }
  ]
}