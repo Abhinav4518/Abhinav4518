{
  "nbformat": 4,
  "nbformat_minor": 0,
  "metadata": {
    "colab": {
      "provenance": [],
      "authorship_tag": "ABX9TyP/2n2SBA0B1ihmRwr4yzpG",
      "include_colab_link": true
    },
    "kernelspec": {
      "name": "python3",
      "display_name": "Python 3"
    },
    "language_info": {
      "name": "python"
    }
  },
  "cells": [
    {
      "cell_type": "markdown",
      "metadata": {
        "id": "view-in-github",
        "colab_type": "text"
      },
      "source": [
        "<a href=\"https://colab.research.google.com/github/Abhinav4518/Abhinav4518/blob/main/Vectors_2.ipynb\" target=\"_parent\"><img src=\"https://colab.research.google.com/assets/colab-badge.svg\" alt=\"Open In Colab\"/></a>"
      ]
    },
    {
      "cell_type": "code",
      "execution_count": 1,
      "metadata": {
        "id": "Fp1Z-3yWE4nA"
      },
      "outputs": [],
      "source": [
        "import numpy as np\n"
      ]
    },
    {
      "cell_type": "markdown",
      "source": [
        "Dot Product of 2 veector"
      ],
      "metadata": {
        "id": "S5Z9hJyEFRjw"
      }
    },
    {
      "cell_type": "code",
      "source": [
        "a=np.array([2,3])\n",
        "\n",
        "b=np.array([4,4])\n",
        "\n",
        "a_dot_b=np.dot(a,b)\n",
        "\n",
        "print(a_dot_b)"
      ],
      "metadata": {
        "colab": {
          "base_uri": "https://localhost:8080/"
        },
        "id": "lUeyPR3sFVZM",
        "outputId": "fbe3c6b6-68dc-4ede-9509-6efda0b6ab99"
      },
      "execution_count": 3,
      "outputs": [
        {
          "output_type": "stream",
          "name": "stdout",
          "text": [
            "20\n"
          ]
        }
      ]
    },
    {
      "cell_type": "markdown",
      "source": [
        "Cross Product of 2 Vector\n"
      ],
      "metadata": {
        "id": "XjPp_imOGgcT"
      }
    },
    {
      "cell_type": "code",
      "source": [
        "a=np.array([5,10,20])\n",
        "\n",
        "b=np.array([18,32,50])\n",
        "\n",
        "a_cross_b=np.cross(a,b)\n",
        "\n",
        "print(a_cross_b)"
      ],
      "metadata": {
        "colab": {
          "base_uri": "https://localhost:8080/"
        },
        "id": "GdlB7WZJGmGR",
        "outputId": "0d495947-4ab9-4b3a-b2dd-739c0c06f098"
      },
      "execution_count": 5,
      "outputs": [
        {
          "output_type": "stream",
          "name": "stdout",
          "text": [
            "[-140  110  -20]\n"
          ]
        }
      ]
    },
    {
      "cell_type": "markdown",
      "source": [
        "Projection of one vector over another\n"
      ],
      "metadata": {
        "id": "A-xPd6EFHhh6"
      }
    },
    {
      "cell_type": "code",
      "source": [
        "a=np.array([2,5])\n",
        "v=np.array([8,-6])\n",
        "\n",
        "#Magnitude\n",
        "magnitude_of_v=np.sqrt(sum(v**2))\n",
        "\n",
        "proj_of_a_on_v=(np.dot(a,v)/magnitude_of_v**2)*v\n",
        "print(proj_of_a_on_v)"
      ],
      "metadata": {
        "colab": {
          "base_uri": "https://localhost:8080/"
        },
        "id": "6297CJKOH1F6",
        "outputId": "02bc60e2-94a2-46b7-e9b1-2fef9adc264f"
      },
      "execution_count": 6,
      "outputs": [
        {
          "output_type": "stream",
          "name": "stdout",
          "text": [
            "[-1.12  0.84]\n"
          ]
        }
      ]
    }
  ]
}