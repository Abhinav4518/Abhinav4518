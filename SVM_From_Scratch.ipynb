{
  "nbformat": 4,
  "nbformat_minor": 0,
  "metadata": {
    "colab": {
      "provenance": [],
      "authorship_tag": "ABX9TyOH6JjR3JmVSFZBgX3vRMfE",
      "include_colab_link": true
    },
    "kernelspec": {
      "name": "python3",
      "display_name": "Python 3"
    },
    "language_info": {
      "name": "python"
    }
  },
  "cells": [
    {
      "cell_type": "markdown",
      "metadata": {
        "id": "view-in-github",
        "colab_type": "text"
      },
      "source": [
        "<a href=\"https://colab.research.google.com/github/Abhinav4518/Abhinav4518/blob/main/SVM_From_Scratch.ipynb\" target=\"_parent\"><img src=\"https://colab.research.google.com/assets/colab-badge.svg\" alt=\"Open In Colab\"/></a>"
      ]
    },
    {
      "cell_type": "code",
      "execution_count": 23,
      "metadata": {
        "id": "L6bIw69daNyv"
      },
      "outputs": [],
      "source": [
        "import numpy as np"
      ]
    },
    {
      "cell_type": "code",
      "source": [
        "from os import XATTR_SIZE_MAX\n",
        "class SVM_classifier():\n",
        "\n",
        "  #initiating the hyperparameters\n",
        "  def __init__(self,learning_rate,no_of_iterations,lambda_parameter):\n",
        "    self.learning_rate=learning_rate\n",
        "    self.no_of_iterations=no_of_iterations\n",
        "    self.lambda_parameter=lambda_parameter\n",
        "\n",
        "\n",
        "  #fitting the dataset to classifier\n",
        "  def fit(self,X,Y):\n",
        "    #m is no of datapoints(row) n is no of input features(target)\n",
        "    self.m,self.n=X.shape\n",
        "\n",
        "    #initiating the weight value and bias value\n",
        "    self.w=np.zeros(self.n)\n",
        "    self.b=0\n",
        "    self.X=X\n",
        "    self.Y=Y\n",
        "\n",
        "    #implementing Gradient Descent value for optimization\n",
        "    for i in range(self.no_of_iterations):\n",
        "      self.update_weights()\n",
        "\n",
        "\n",
        "  #function for updating weight and bias\n",
        "  def update_weights(self):\n",
        "\n",
        "    y_label=np.where(self.Y<=0,-1,1)\n",
        "\n",
        "    for index,x_i in enumerate(self.X):\n",
        "\n",
        "      condition=y_label[index]*(np.dot(x_i,self.w)-self.b)>=1\n",
        "\n",
        "      if(condition==True):\n",
        "        dw=2*self.lambda_parameter*self.w\n",
        "        db=0\n",
        "\n",
        "      else:\n",
        "        dw=2*self.lambda_parameter*self.w-np.dot(x_i,y_label[index])\n",
        "        db=y_label[index]\n",
        "\n",
        "      self.w=self.w-self.learning_rate*dw\n",
        "      self.b=self.b-self.learning_rate*db\n",
        "\n",
        "\n",
        "\n",
        "\n",
        "\n",
        "  #predict the label for a given input value\n",
        "  def predict(self,X):\n",
        "\n",
        "    output=np.dot(X,self.w)-self.b\n",
        "    predicted_labels=np.sign(output)\n",
        "\n",
        "    y_hat=np.where(predicted_labels<= -1,0,1)\n",
        "\n",
        "    return y_hat\n"
      ],
      "metadata": {
        "id": "uHtVAGm7bgH-"
      },
      "execution_count": 24,
      "outputs": []
    },
    {
      "cell_type": "code",
      "source": [
        "import pandas as pd\n",
        "from sklearn.model_selection import train_test_split\n",
        "from sklearn.preprocessing import StandardScaler\n",
        "from sklearn.metrics import accuracy_score"
      ],
      "metadata": {
        "id": "0AUukfSIw_Rx"
      },
      "execution_count": 25,
      "outputs": []
    },
    {
      "cell_type": "code",
      "source": [
        "diabetes_data=pd.read_csv('/content/diabetes.csv')\n",
        "diabetes_data['Outcome'].value_counts()"
      ],
      "metadata": {
        "colab": {
          "base_uri": "https://localhost:8080/",
          "height": 178
        },
        "id": "QgNq6FwT0Eg6",
        "outputId": "8b75b5fe-779c-4278-fec9-3bd014a2b920"
      },
      "execution_count": 26,
      "outputs": [
        {
          "output_type": "execute_result",
          "data": {
            "text/plain": [
              "Outcome\n",
              "0    500\n",
              "1    268\n",
              "Name: count, dtype: int64"
            ],
            "text/html": [
              "<div>\n",
              "<style scoped>\n",
              "    .dataframe tbody tr th:only-of-type {\n",
              "        vertical-align: middle;\n",
              "    }\n",
              "\n",
              "    .dataframe tbody tr th {\n",
              "        vertical-align: top;\n",
              "    }\n",
              "\n",
              "    .dataframe thead th {\n",
              "        text-align: right;\n",
              "    }\n",
              "</style>\n",
              "<table border=\"1\" class=\"dataframe\">\n",
              "  <thead>\n",
              "    <tr style=\"text-align: right;\">\n",
              "      <th></th>\n",
              "      <th>count</th>\n",
              "    </tr>\n",
              "    <tr>\n",
              "      <th>Outcome</th>\n",
              "      <th></th>\n",
              "    </tr>\n",
              "  </thead>\n",
              "  <tbody>\n",
              "    <tr>\n",
              "      <th>0</th>\n",
              "      <td>500</td>\n",
              "    </tr>\n",
              "    <tr>\n",
              "      <th>1</th>\n",
              "      <td>268</td>\n",
              "    </tr>\n",
              "  </tbody>\n",
              "</table>\n",
              "</div><br><label><b>dtype:</b> int64</label>"
            ]
          },
          "metadata": {},
          "execution_count": 26
        }
      ]
    },
    {
      "cell_type": "code",
      "source": [
        "#seperating features and target\n",
        "features=diabetes_data.drop(columns='Outcome',axis=1)\n",
        "target=diabetes_data['Outcome']"
      ],
      "metadata": {
        "id": "2dexoEcE0qGv"
      },
      "execution_count": 27,
      "outputs": []
    },
    {
      "cell_type": "code",
      "source": [
        "#Standardization of Data\n",
        "scaler=StandardScaler()\n",
        "scaler.fit(features)\n",
        "standardized_data=scaler.transform(features)"
      ],
      "metadata": {
        "id": "jqNkc0zn1TZQ"
      },
      "execution_count": 28,
      "outputs": []
    },
    {
      "cell_type": "code",
      "source": [
        "features=standardized_data\n",
        "target=diabetes_data['Outcome']"
      ],
      "metadata": {
        "id": "7uCX970s19wF"
      },
      "execution_count": 29,
      "outputs": []
    },
    {
      "cell_type": "code",
      "source": [
        "#Train Test Split\n",
        "X_train,X_test,Y_train,Y_test=train_test_split(features,target,test_size=0.2,stratify=target,random_state=2)"
      ],
      "metadata": {
        "id": "R5-8s6OL2GqQ"
      },
      "execution_count": 30,
      "outputs": []
    },
    {
      "cell_type": "code",
      "source": [
        "#Training the model\n",
        "classifier=SVM_classifier(learning_rate=0.001,no_of_iterations=1000,lambda_parameter=0.01)\n",
        "classifier.fit(X_train,Y_train)\n",
        "#model evaluation\n",
        "X_train_prediction=classifier.predict(X_train)\n",
        "training_data_accuracy=accuracy_score(Y_train,X_train_prediction)\n",
        "print(training_data_accuracy)\n",
        "X_test_prediction=classifier.predict(X_test)\n",
        "testing_data_accuracy=accuracy_score(Y_test,X_test_prediction)\n",
        "print(testing_data_accuracy)"
      ],
      "metadata": {
        "colab": {
          "base_uri": "https://localhost:8080/"
        },
        "id": "zdvLttRt2uc2",
        "outputId": "c12c49b8-a0cd-4ea9-fdb1-0e0d7def86d1"
      },
      "execution_count": 31,
      "outputs": [
        {
          "output_type": "stream",
          "name": "stdout",
          "text": [
            "0.7866449511400652\n",
            "0.7727272727272727\n"
          ]
        }
      ]
    }
  ]
}