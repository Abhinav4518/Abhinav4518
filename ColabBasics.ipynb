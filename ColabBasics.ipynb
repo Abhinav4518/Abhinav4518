{
  "nbformat": 4,
  "nbformat_minor": 0,
  "metadata": {
    "colab": {
      "provenance": [],
      "authorship_tag": "ABX9TyMmGOTsZ9rv725049W5jEji",
      "include_colab_link": true
    },
    "kernelspec": {
      "name": "python3",
      "display_name": "Python 3"
    },
    "language_info": {
      "name": "python"
    }
  },
  "cells": [
    {
      "cell_type": "markdown",
      "metadata": {
        "id": "view-in-github",
        "colab_type": "text"
      },
      "source": [
        "<a href=\"https://colab.research.google.com/github/Abhinav4518/Abhinav4518/blob/main/ColabBasics.ipynb\" target=\"_parent\"><img src=\"https://colab.research.google.com/assets/colab-badge.svg\" alt=\"Open In Colab\"/></a>"
      ]
    },
    {
      "cell_type": "markdown",
      "source": [
        "#Python Basics\n"
      ],
      "metadata": {
        "id": "wYNhqJww4lE1"
      }
    },
    {
      "cell_type": "code",
      "source": [],
      "metadata": {
        "id": "Mc2c1UjD36Zb"
      },
      "execution_count": null,
      "outputs": []
    },
    {
      "cell_type": "code",
      "execution_count": 2,
      "metadata": {
        "colab": {
          "base_uri": "https://localhost:8080/"
        },
        "id": "pRnHmI1z2yz_",
        "outputId": "5e600e22-8fa9-45a9-bad5-37ef422e5027"
      },
      "outputs": [
        {
          "output_type": "stream",
          "name": "stdout",
          "text": [
            "Machine Learning\n"
          ]
        }
      ],
      "source": [
        "print('Machine Learning')"
      ]
    },
    {
      "cell_type": "code",
      "source": [
        "print(\"Machine Learning\" + \" Project\");\n"
      ],
      "metadata": {
        "colab": {
          "base_uri": "https://localhost:8080/"
        },
        "id": "WMUYkZdt4NCi",
        "outputId": "737c0ddd-54ec-4357-ef74-fbfd4a3884dc"
      },
      "execution_count": 4,
      "outputs": [
        {
          "output_type": "stream",
          "name": "stdout",
          "text": [
            "Machine Learning Project\n"
          ]
        }
      ]
    },
    {
      "cell_type": "code",
      "source": [
        "print(8)"
      ],
      "metadata": {
        "colab": {
          "base_uri": "https://localhost:8080/"
        },
        "id": "ux51_3fw4YBr",
        "outputId": "743d45f5-1e98-4fa2-e0ce-73d279abe44e"
      },
      "execution_count": 5,
      "outputs": [
        {
          "output_type": "stream",
          "name": "stdout",
          "text": [
            "8\n"
          ]
        }
      ]
    },
    {
      "cell_type": "code",
      "source": [
        "print(8+5)"
      ],
      "metadata": {
        "colab": {
          "base_uri": "https://localhost:8080/"
        },
        "id": "fCnEyrU24caZ",
        "outputId": "3c479fc1-3e62-4fe6-c3fb-c1a1c5989b25"
      },
      "execution_count": 6,
      "outputs": [
        {
          "output_type": "stream",
          "name": "stdout",
          "text": [
            "13\n"
          ]
        }
      ]
    },
    {
      "cell_type": "markdown",
      "source": [
        "#Basic Data Types\n",
        "\n"
      ],
      "metadata": {
        "id": "kwGnPZ_j4w7x"
      }
    },
    {
      "cell_type": "code",
      "source": [
        "type(8)"
      ],
      "metadata": {
        "colab": {
          "base_uri": "https://localhost:8080/"
        },
        "id": "OHjJLuJn4s1r",
        "outputId": "824c7e30-52b1-496e-9f8a-b0c1b2a80147"
      },
      "execution_count": 7,
      "outputs": [
        {
          "output_type": "execute_result",
          "data": {
            "text/plain": [
              "int"
            ]
          },
          "metadata": {},
          "execution_count": 7
        }
      ]
    },
    {
      "cell_type": "code",
      "source": [
        "type(5.3)"
      ],
      "metadata": {
        "colab": {
          "base_uri": "https://localhost:8080/"
        },
        "id": "V4HzV_gD5E4l",
        "outputId": "c96c39f9-7756-4dc7-dd14-38169da6a0cc"
      },
      "execution_count": 8,
      "outputs": [
        {
          "output_type": "execute_result",
          "data": {
            "text/plain": [
              "float"
            ]
          },
          "metadata": {},
          "execution_count": 8
        }
      ]
    },
    {
      "cell_type": "code",
      "source": [
        "type(\"english\")"
      ],
      "metadata": {
        "colab": {
          "base_uri": "https://localhost:8080/"
        },
        "id": "o7jfvux05IeI",
        "outputId": "16a65a59-5bad-4a0e-bbf7-61e07f41cf18"
      },
      "execution_count": 10,
      "outputs": [
        {
          "output_type": "execute_result",
          "data": {
            "text/plain": [
              "str"
            ]
          },
          "metadata": {},
          "execution_count": 10
        }
      ]
    },
    {
      "cell_type": "markdown",
      "source": [
        "#Constants and Variables"
      ],
      "metadata": {
        "id": "YasiIC175PY0"
      }
    },
    {
      "cell_type": "code",
      "source": [
        "superhero=\"Iron Man\"\n",
        "print(superhero)"
      ],
      "metadata": {
        "colab": {
          "base_uri": "https://localhost:8080/"
        },
        "id": "t6oHCOUd5VY0",
        "outputId": "c268a4cc-3d23-46c1-de31-3a96344ce9cc"
      },
      "execution_count": 11,
      "outputs": [
        {
          "output_type": "stream",
          "name": "stdout",
          "text": [
            "Iron Man\n"
          ]
        }
      ]
    },
    {
      "cell_type": "code",
      "source": [
        "superhero=\"Captain America\"\n",
        "print(superhero)"
      ],
      "metadata": {
        "colab": {
          "base_uri": "https://localhost:8080/"
        },
        "id": "XcopNtNd5hPS",
        "outputId": "f5da2ada-161a-410d-f50f-c233f38affbd"
      },
      "execution_count": 12,
      "outputs": [
        {
          "output_type": "stream",
          "name": "stdout",
          "text": [
            "Captain America\n"
          ]
        }
      ]
    },
    {
      "cell_type": "code",
      "source": [
        "hero1,hero2,hero3=\"Iron Man \",17,\"YouTube\"\n",
        "print(hero1);\n",
        "print(hero2);\n",
        "print(hero3);"
      ],
      "metadata": {
        "colab": {
          "base_uri": "https://localhost:8080/"
        },
        "id": "ktnqCpKP5o-A",
        "outputId": "42315405-631d-447f-c0ea-321aae155210"
      },
      "execution_count": 13,
      "outputs": [
        {
          "output_type": "stream",
          "name": "stdout",
          "text": [
            "Iron Man \n",
            "17\n",
            "YouTube\n"
          ]
        }
      ]
    },
    {
      "cell_type": "code",
      "source": [
        "x=y=z=23;\n",
        "print(x)\n",
        "print(y)\n",
        "print(z)"
      ],
      "metadata": {
        "colab": {
          "base_uri": "https://localhost:8080/"
        },
        "id": "W1Vm-a5r6C8N",
        "outputId": "40f2da86-2ab2-4195-cf8f-dc8cc24b13b1"
      },
      "execution_count": 14,
      "outputs": [
        {
          "output_type": "stream",
          "name": "stdout",
          "text": [
            "23\n",
            "23\n",
            "23\n"
          ]
        }
      ]
    },
    {
      "cell_type": "markdown",
      "source": [
        "#Input"
      ],
      "metadata": {
        "id": "gtYENJim6NHg"
      }
    },
    {
      "cell_type": "code",
      "source": [
        "number_1=input(\"Enter the first Number : \")\n",
        "number_2=input(\"Enter the second Number : \");\n",
        "sum=number_1+number_2\n",
        "print(sum);"
      ],
      "metadata": {
        "colab": {
          "base_uri": "https://localhost:8080/"
        },
        "id": "qGtr1ojV6QC5",
        "outputId": "53637f2c-5cbe-44ad-cb49-35d070c93532"
      },
      "execution_count": 17,
      "outputs": [
        {
          "output_type": "stream",
          "name": "stdout",
          "text": [
            "Enter the first Number : 10\n",
            "Enter the second Number : 15\n",
            "1015\n"
          ]
        }
      ]
    },
    {
      "cell_type": "code",
      "source": [
        "number_1=int(input(\"Enter the first Number : \"))\n",
        "number_2=int(input(\"Enter the second Number : \"));\n",
        "sum=number_1+number_2\n",
        "print(sum);"
      ],
      "metadata": {
        "colab": {
          "base_uri": "https://localhost:8080/"
        },
        "id": "A35XGmq76xc2",
        "outputId": "4e5bb90a-18df-4544-f91c-5c1814f5d103"
      },
      "execution_count": 18,
      "outputs": [
        {
          "output_type": "stream",
          "name": "stdout",
          "text": [
            "Enter the first Number : 19\n",
            "Enter the second Number : 14\n",
            "33\n"
          ]
        }
      ]
    },
    {
      "cell_type": "code",
      "source": [
        "#Changing the data type\n",
        "num=5\n",
        "print(float(num));"
      ],
      "metadata": {
        "colab": {
          "base_uri": "https://localhost:8080/"
        },
        "id": "z1QtN-Bn68TG",
        "outputId": "fbbb0dfb-1293-4e15-fdb7-2e98e78e816d"
      },
      "execution_count": 19,
      "outputs": [
        {
          "output_type": "stream",
          "name": "stdout",
          "text": [
            "5.0\n"
          ]
        }
      ]
    },
    {
      "cell_type": "markdown",
      "source": [
        "#All Data Type Description"
      ],
      "metadata": {
        "id": "mFoUJ_A07Wnm"
      }
    },
    {
      "cell_type": "code",
      "source": [
        "#Integers\n",
        "a=8\n",
        "print(8)"
      ],
      "metadata": {
        "colab": {
          "base_uri": "https://localhost:8080/"
        },
        "id": "4mT1HLZP7cLj",
        "outputId": "d22c0b01-e9f3-44f3-9f6c-8e011aaa0477"
      },
      "execution_count": 20,
      "outputs": [
        {
          "output_type": "stream",
          "name": "stdout",
          "text": [
            "8\n"
          ]
        }
      ]
    },
    {
      "cell_type": "code",
      "source": [
        "type(a)"
      ],
      "metadata": {
        "colab": {
          "base_uri": "https://localhost:8080/"
        },
        "id": "wI7hFXgL7kkl",
        "outputId": "1729f6ea-69f1-4315-ade8-f49fe7fe741b"
      },
      "execution_count": 21,
      "outputs": [
        {
          "output_type": "execute_result",
          "data": {
            "text/plain": [
              "int"
            ]
          },
          "metadata": {},
          "execution_count": 21
        }
      ]
    },
    {
      "cell_type": "code",
      "source": [
        "#float\n",
        "b=2.3\n",
        "print(b)\n",
        "type(b)"
      ],
      "metadata": {
        "colab": {
          "base_uri": "https://localhost:8080/"
        },
        "id": "23ctx5607nj1",
        "outputId": "ff25f12c-4c97-4267-afab-85bf8b12e8a1"
      },
      "execution_count": 22,
      "outputs": [
        {
          "output_type": "stream",
          "name": "stdout",
          "text": [
            "2.3\n"
          ]
        },
        {
          "output_type": "execute_result",
          "data": {
            "text/plain": [
              "float"
            ]
          },
          "metadata": {},
          "execution_count": 22
        }
      ]
    },
    {
      "cell_type": "code",
      "source": [
        "#complex\n",
        "c=1+3j\n",
        "print(c)\n",
        "type(c)"
      ],
      "metadata": {
        "colab": {
          "base_uri": "https://localhost:8080/"
        },
        "id": "OlyyvGxd7tbv",
        "outputId": "f4420462-e034-49fe-ca54-958bbeafc71d"
      },
      "execution_count": 24,
      "outputs": [
        {
          "output_type": "stream",
          "name": "stdout",
          "text": [
            "(1+3j)\n"
          ]
        },
        {
          "output_type": "execute_result",
          "data": {
            "text/plain": [
              "complex"
            ]
          },
          "metadata": {},
          "execution_count": 24
        }
      ]
    },
    {
      "cell_type": "markdown",
      "source": [
        "#Conversion of Data Type"
      ],
      "metadata": {
        "id": "C8bw06jg759D"
      }
    },
    {
      "cell_type": "code",
      "source": [
        "#int to float\n",
        "x=10\n",
        "print(x)\n",
        "type(x)\n",
        "y=float(x)\n",
        "print(y)\n",
        "type(y)"
      ],
      "metadata": {
        "colab": {
          "base_uri": "https://localhost:8080/"
        },
        "id": "yEWo_r-N7_KD",
        "outputId": "feb8eba4-3849-4b78-973e-42553099c2fd"
      },
      "execution_count": 26,
      "outputs": [
        {
          "output_type": "stream",
          "name": "stdout",
          "text": [
            "10\n",
            "10.0\n"
          ]
        },
        {
          "output_type": "execute_result",
          "data": {
            "text/plain": [
              "float"
            ]
          },
          "metadata": {},
          "execution_count": 26
        }
      ]
    },
    {
      "cell_type": "code",
      "source": [
        "#float to int\n",
        "x=5.88\n",
        "print(x)\n",
        "y=int(x)\n",
        "print(y)"
      ],
      "metadata": {
        "colab": {
          "base_uri": "https://localhost:8080/"
        },
        "id": "VLH9YNKG9BsH",
        "outputId": "27245a7b-4abf-42c3-c3dc-0be7d1192623"
      },
      "execution_count": 28,
      "outputs": [
        {
          "output_type": "stream",
          "name": "stdout",
          "text": [
            "5.88\n",
            "5\n"
          ]
        }
      ]
    },
    {
      "cell_type": "code",
      "source": [
        "#Boolean\n",
        "a=True\n",
        "print(a)\n",
        "b=False\n",
        "print(b)"
      ],
      "metadata": {
        "colab": {
          "base_uri": "https://localhost:8080/"
        },
        "id": "J5JomntX9Few",
        "outputId": "cfafb141-3460-4b6b-dc82-84fb2ac22066"
      },
      "execution_count": 30,
      "outputs": [
        {
          "output_type": "stream",
          "name": "stdout",
          "text": [
            "True\n",
            "False\n"
          ]
        }
      ]
    },
    {
      "cell_type": "code",
      "source": [
        "a=7<3\n",
        "print(a)\n",
        "type(a)"
      ],
      "metadata": {
        "colab": {
          "base_uri": "https://localhost:8080/"
        },
        "id": "b2-gLrf69TiQ",
        "outputId": "2d39c406-c39c-42c1-c932-44091a32ee1e"
      },
      "execution_count": 31,
      "outputs": [
        {
          "output_type": "stream",
          "name": "stdout",
          "text": [
            "False\n"
          ]
        },
        {
          "output_type": "execute_result",
          "data": {
            "text/plain": [
              "bool"
            ]
          },
          "metadata": {},
          "execution_count": 31
        }
      ]
    },
    {
      "cell_type": "code",
      "source": [
        "#String\n",
        "print('Machine Learning');"
      ],
      "metadata": {
        "colab": {
          "base_uri": "https://localhost:8080/"
        },
        "id": "1VaBesJc9h6H",
        "outputId": "c113f922-6f86-4b4d-c4a4-ff5200ee980d"
      },
      "execution_count": 32,
      "outputs": [
        {
          "output_type": "stream",
          "name": "stdout",
          "text": [
            "Machine Learning\n"
          ]
        }
      ]
    },
    {
      "cell_type": "code",
      "source": [
        "my_String=\"Machine Learning\"\n",
        "print(my_String)\n",
        "type(my_String)"
      ],
      "metadata": {
        "colab": {
          "base_uri": "https://localhost:8080/"
        },
        "id": "tK4Ymoo79uZh",
        "outputId": "9794dea5-fa56-4c41-ef43-933abd5c35e7"
      },
      "execution_count": 33,
      "outputs": [
        {
          "output_type": "stream",
          "name": "stdout",
          "text": [
            "Machine Learning\n"
          ]
        },
        {
          "output_type": "execute_result",
          "data": {
            "text/plain": [
              "str"
            ]
          },
          "metadata": {},
          "execution_count": 33
        }
      ]
    },
    {
      "cell_type": "code",
      "source": [
        "#printing multiple times\n",
        "print(\"Hello \" *5)"
      ],
      "metadata": {
        "colab": {
          "base_uri": "https://localhost:8080/"
        },
        "id": "tantfttb98L0",
        "outputId": "4e10d538-fd8a-416a-dc46-b480a2ca98ec"
      },
      "execution_count": 36,
      "outputs": [
        {
          "output_type": "stream",
          "name": "stdout",
          "text": [
            "Hello Hello Hello Hello Hello \n"
          ]
        }
      ]
    },
    {
      "cell_type": "code",
      "source": [
        "#Slicing\n",
        "my_string=\"Programming\";\n",
        "print(my_string[1:5]);\n",
        "#it will print from 1 to 4 only"
      ],
      "metadata": {
        "colab": {
          "base_uri": "https://localhost:8080/"
        },
        "id": "1plMVZzG-A20",
        "outputId": "ab4b61a7-9b9c-4a42-afd0-2ec5598828d3"
      },
      "execution_count": 38,
      "outputs": [
        {
          "output_type": "stream",
          "name": "stdout",
          "text": [
            "rogr\n"
          ]
        }
      ]
    },
    {
      "cell_type": "code",
      "source": [
        "#step\n",
        "print(my_string[0:10:2]);\n",
        "#every second letter will be removed"
      ],
      "metadata": {
        "colab": {
          "base_uri": "https://localhost:8080/"
        },
        "id": "rXo0C-2A-fhy",
        "outputId": "cdd53a4a-23aa-4953-f05a-b86df509e8d0"
      },
      "execution_count": 40,
      "outputs": [
        {
          "output_type": "stream",
          "name": "stdout",
          "text": [
            "Pormi\n"
          ]
        }
      ]
    },
    {
      "cell_type": "code",
      "source": [
        "#string Concatenation\n",
        "word_1='Machine'\n",
        "word_2='Learning'\n",
        "print(word_1+word_2);\n"
      ],
      "metadata": {
        "colab": {
          "base_uri": "https://localhost:8080/"
        },
        "id": "eiW00d8n-rF6",
        "outputId": "054d774d-381e-436f-dea2-f9a0de948060"
      },
      "execution_count": 41,
      "outputs": [
        {
          "output_type": "stream",
          "name": "stdout",
          "text": [
            "MachineLearning\n"
          ]
        }
      ]
    },
    {
      "cell_type": "markdown",
      "source": [
        "#Mutable Objects: 1)List 2)Set 3)Dictionary"
      ],
      "metadata": {
        "id": "Fju8KTZJHc9h"
      }
    },
    {
      "cell_type": "code",
      "source": [
        "#list should be included in the square brackets\n",
        "my_list=[1,2,3,4,5]\n",
        "print(my_list)\n",
        "type(my_list)"
      ],
      "metadata": {
        "colab": {
          "base_uri": "https://localhost:8080/"
        },
        "id": "XW6sxuA_Hrfp",
        "outputId": "08e9e977-a0ec-42e2-8394-ad3e8a3d671c"
      },
      "execution_count": 43,
      "outputs": [
        {
          "output_type": "stream",
          "name": "stdout",
          "text": [
            "[1, 2, 3, 4, 5]\n"
          ]
        },
        {
          "output_type": "execute_result",
          "data": {
            "text/plain": [
              "list"
            ]
          },
          "metadata": {},
          "execution_count": 43
        }
      ]
    },
    {
      "cell_type": "code",
      "source": [
        "my_list=[2,3,1.8,'English',True]\n",
        "print(my_list);"
      ],
      "metadata": {
        "colab": {
          "base_uri": "https://localhost:8080/"
        },
        "id": "kGOLE8iMIDxP",
        "outputId": "dfb097bb-28b7-4859-a38c-aae9ea9e0d9c"
      },
      "execution_count": 44,
      "outputs": [
        {
          "output_type": "stream",
          "name": "stdout",
          "text": [
            "[2, 3, 1.8, 'English', True]\n"
          ]
        }
      ]
    },
    {
      "cell_type": "code",
      "source": [
        "#List are changable\n",
        "#add elements\n",
        "my_list.append(6)\n",
        "print(my_list)"
      ],
      "metadata": {
        "colab": {
          "base_uri": "https://localhost:8080/"
        },
        "id": "lyeFJIJTIQTX",
        "outputId": "4ca4dc77-3e6b-4b75-fe2c-62af90215ef9"
      },
      "execution_count": 47,
      "outputs": [
        {
          "output_type": "stream",
          "name": "stdout",
          "text": [
            "[2, 3, 1.8, 'English', True, 6]\n"
          ]
        }
      ]
    },
    {
      "cell_type": "code",
      "source": [
        "#Print Elements using the index\n",
        "print(my_list[0])"
      ],
      "metadata": {
        "colab": {
          "base_uri": "https://localhost:8080/"
        },
        "id": "fEAA8smEIUnk",
        "outputId": "acc51fbe-01b8-4f45-95e2-86a8b2b537d8"
      },
      "execution_count": 48,
      "outputs": [
        {
          "output_type": "stream",
          "name": "stdout",
          "text": [
            "2\n"
          ]
        }
      ]
    },
    {
      "cell_type": "code",
      "source": [
        "#List allows duplicate values where as Set doesn't\n",
        "list_1=[1,2,3,4,5,12,2,3]\n",
        "print(list_1)\n",
        "print(len(list_1))"
      ],
      "metadata": {
        "colab": {
          "base_uri": "https://localhost:8080/"
        },
        "id": "nt52jSPeIrFv",
        "outputId": "29892806-f122-4ae3-d06f-ea7d29d47cf5"
      },
      "execution_count": 49,
      "outputs": [
        {
          "output_type": "stream",
          "name": "stdout",
          "text": [
            "[1, 2, 3, 4, 5, 12, 2, 3]\n",
            "8\n"
          ]
        }
      ]
    },
    {
      "cell_type": "code",
      "source": [
        "#initiating an empty list\n",
        "list_2=[]\n",
        "print(list_2)"
      ],
      "metadata": {
        "colab": {
          "base_uri": "https://localhost:8080/"
        },
        "id": "-eASFjGEJJPF",
        "outputId": "4fbb5b1d-6f0f-4cec-8992-458ec1088f42"
      },
      "execution_count": 50,
      "outputs": [
        {
          "output_type": "stream",
          "name": "stdout",
          "text": [
            "[]\n"
          ]
        }
      ]
    },
    {
      "cell_type": "code",
      "source": [
        "list_2.append(6);\n",
        "print(list_2)"
      ],
      "metadata": {
        "colab": {
          "base_uri": "https://localhost:8080/"
        },
        "id": "bSPpsuQWJYYU",
        "outputId": "dc761966-f314-44c6-e2a1-8b483706fd1d"
      },
      "execution_count": 51,
      "outputs": [
        {
          "output_type": "stream",
          "name": "stdout",
          "text": [
            "[6]\n"
          ]
        }
      ]
    },
    {
      "cell_type": "code",
      "source": [
        "#delete\n",
        "list_2=[1, 2, 3, 4, 5, 12, 2, 3]\n",
        "print(list_2)\n",
        "del list_2[3]\n",
        "print(list_2)"
      ],
      "metadata": {
        "colab": {
          "base_uri": "https://localhost:8080/"
        },
        "id": "9XvdAzKfJe8Y",
        "outputId": "939f914b-bab5-46db-ca87-8829dfac0a10"
      },
      "execution_count": 53,
      "outputs": [
        {
          "output_type": "stream",
          "name": "stdout",
          "text": [
            "[1, 2, 3, 4, 5, 12, 2, 3]\n",
            "[1, 2, 3, 5, 12, 2, 3]\n"
          ]
        }
      ]
    },
    {
      "cell_type": "code",
      "source": [
        "#join two lists\n",
        "list_3=[1,2,3,4]\n",
        "list_4=[2,5,6,7]\n",
        "list_5=list_3+list_4\n",
        "print(list_5)"
      ],
      "metadata": {
        "colab": {
          "base_uri": "https://localhost:8080/"
        },
        "id": "UCtv2ToaJg16",
        "outputId": "7179a636-b6ba-4645-82f3-89ef9746afa7"
      },
      "execution_count": 54,
      "outputs": [
        {
          "output_type": "stream",
          "name": "stdout",
          "text": [
            "[1, 2, 3, 4, 2, 5, 6, 7]\n"
          ]
        }
      ]
    },
    {
      "cell_type": "markdown",
      "source": [
        "#Tuple"
      ],
      "metadata": {
        "id": "vBl4Jt-7KXhg"
      }
    },
    {
      "cell_type": "code",
      "source": [
        "tuple_1=(2,3,4,5)\n",
        "print(tuple_1)\n",
        "type(tuple_1)"
      ],
      "metadata": {
        "colab": {
          "base_uri": "https://localhost:8080/"
        },
        "id": "Rn2MTBxqKdv5",
        "outputId": "bb34f066-2a6a-462b-94bf-a79e17cccb3e"
      },
      "execution_count": 55,
      "outputs": [
        {
          "output_type": "stream",
          "name": "stdout",
          "text": [
            "(2, 3, 4, 5)\n"
          ]
        },
        {
          "output_type": "execute_result",
          "data": {
            "text/plain": [
              "tuple"
            ]
          },
          "metadata": {},
          "execution_count": 55
        }
      ]
    },
    {
      "cell_type": "code",
      "source": [
        "tuple_2=(1,2,3,4.5,'Machine Learning',False);\n",
        "print(tuple_2)"
      ],
      "metadata": {
        "colab": {
          "base_uri": "https://localhost:8080/"
        },
        "id": "R4V5oR_mLjcA",
        "outputId": "cb5e7b6a-8051-4807-d36c-4c0e3374c193"
      },
      "execution_count": 56,
      "outputs": [
        {
          "output_type": "stream",
          "name": "stdout",
          "text": [
            "(1, 2, 3, 4.5, 'Machine Learning', False)\n"
          ]
        }
      ]
    },
    {
      "cell_type": "code",
      "source": [
        "#converting a list to a tuple\n",
        "my_list=[2,3,4,5]\n",
        "print(my_list);\n",
        "my_tuple=tuple(my_list)\n",
        "print(my_tuple);\n"
      ],
      "metadata": {
        "colab": {
          "base_uri": "https://localhost:8080/"
        },
        "id": "L7ZB9NX9Luv2",
        "outputId": "72621965-1521-48b2-bb33-8a9886aae2f0"
      },
      "execution_count": 57,
      "outputs": [
        {
          "output_type": "stream",
          "name": "stdout",
          "text": [
            "[2, 3, 4, 5]\n",
            "(2, 3, 4, 5)\n"
          ]
        }
      ]
    },
    {
      "cell_type": "code",
      "source": [
        "print(my_tuple[0])\n",
        "print(my_tuple[1])"
      ],
      "metadata": {
        "colab": {
          "base_uri": "https://localhost:8080/"
        },
        "id": "wyLMuSHwMI8I",
        "outputId": "5db2993e-c8ab-421e-dd82-4eee64d5e23b"
      },
      "execution_count": 58,
      "outputs": [
        {
          "output_type": "stream",
          "name": "stdout",
          "text": [
            "2\n",
            "3\n"
          ]
        }
      ]
    },
    {
      "cell_type": "code",
      "source": [
        "#Tuple is immutable that means we cannot change the elements like append or delete is not applicable."
      ],
      "metadata": {
        "id": "XTxS251iMPfZ"
      },
      "execution_count": null,
      "outputs": []
    },
    {
      "cell_type": "markdown",
      "source": [
        "#Set"
      ],
      "metadata": {
        "id": "fPFdzuT2Ma_-"
      }
    },
    {
      "cell_type": "code",
      "source": [
        "my_set={1,2,3,4,5}\n",
        "print(my_set)\n",
        "type(my_set);\n",
        "#Sets does not support the indexing"
      ],
      "metadata": {
        "colab": {
          "base_uri": "https://localhost:8080/"
        },
        "id": "pKc6djvNMdNz",
        "outputId": "06167028-abe1-4d99-aa3e-9049d9041444"
      },
      "execution_count": 59,
      "outputs": [
        {
          "output_type": "stream",
          "name": "stdout",
          "text": [
            "{1, 2, 3, 4, 5}\n"
          ]
        }
      ]
    },
    {
      "cell_type": "code",
      "source": [
        "#convert a list to a set\n",
        "list_5=[4,5,6,7,8,7]\n",
        "x=set(list_5)\n",
        "print(x)"
      ],
      "metadata": {
        "colab": {
          "base_uri": "https://localhost:8080/"
        },
        "id": "wWzBPLukMy74",
        "outputId": "0df17586-c58a-4948-d355-94da4b0fe682"
      },
      "execution_count": 61,
      "outputs": [
        {
          "output_type": "stream",
          "name": "stdout",
          "text": [
            "{4, 5, 6, 7, 8}\n"
          ]
        }
      ]
    },
    {
      "cell_type": "markdown",
      "source": [
        "#Dictionary"
      ],
      "metadata": {
        "id": "c0BZ_2uaNLYy"
      }
    },
    {
      "cell_type": "code",
      "source": [
        "#Dictionary is key value pair\n",
        "my_dictionary={'name':'Abhinav Kumar Jha','Age':20,'Country':'India'}\n",
        "print(my_dictionary)"
      ],
      "metadata": {
        "colab": {
          "base_uri": "https://localhost:8080/"
        },
        "id": "J-OtwTmPNON4",
        "outputId": "a8b49ffe-9fd0-42df-c7a6-28ffeb74b1b8"
      },
      "execution_count": 62,
      "outputs": [
        {
          "output_type": "stream",
          "name": "stdout",
          "text": [
            "{'name': 'Abhinav Kumar Jha', 'Age': 20, 'Country': 'India'}\n"
          ]
        }
      ]
    },
    {
      "cell_type": "code",
      "source": [
        "print(my_dictionary['name'])\n",
        "print(my_dictionary['Age'])\n",
        "print(my_dictionary['Country'])"
      ],
      "metadata": {
        "colab": {
          "base_uri": "https://localhost:8080/"
        },
        "id": "enCAwo8dNo4l",
        "outputId": "1803e6f1-d274-4ada-dfe1-e0d739009b97"
      },
      "execution_count": 63,
      "outputs": [
        {
          "output_type": "stream",
          "name": "stdout",
          "text": [
            "Abhinav Kumar Jha\n",
            "20\n",
            "India\n"
          ]
        }
      ]
    },
    {
      "cell_type": "code",
      "source": [
        "#Dictionary Does not allow Duplicate values\n",
        "dictionary_2={'name':'Abhinav Kumar Jha','Age':20,'Country':'India','Country':'India'}\n",
        "print(dictionary_2)"
      ],
      "metadata": {
        "colab": {
          "base_uri": "https://localhost:8080/"
        },
        "id": "GiLW0-8WN010",
        "outputId": "9ba52657-6b11-4c20-c50b-5a40d2e88ea5"
      },
      "execution_count": 64,
      "outputs": [
        {
          "output_type": "stream",
          "name": "stdout",
          "text": [
            "{'name': 'Abhinav Kumar Jha', 'Age': 20, 'Country': 'India'}\n"
          ]
        }
      ]
    },
    {
      "cell_type": "markdown",
      "source": [
        "#Operators"
      ],
      "metadata": {
        "id": "5tlJ4mblOKU-"
      }
    },
    {
      "cell_type": "markdown",
      "source": [
        "1.Arithmetic"
      ],
      "metadata": {
        "id": "nWC_A9WnOQK3"
      }
    },
    {
      "cell_type": "code",
      "source": [
        "num_1=20\n",
        "num_2=10\n",
        "#addition\n",
        "sum=num_1+num_2;\n",
        "print('sum = ',sum);\n",
        "#subtraction\n",
        "diff=num_1-num_2\n",
        "print('diff = ',diff)\n",
        "#multiplication\n",
        "product=num_1*num_2;\n",
        "print('Product = ',product)\n",
        "#division\n",
        "quo=num_1/num_2;\n",
        "print('quo = ',quo);\n",
        "#expon\n",
        "exp=num_1**num_2;\n",
        "print('exp = ',exp)\n",
        "#modulus\n",
        "mod=num_1%num_2\n",
        "print('Remainder = ',mod)"
      ],
      "metadata": {
        "colab": {
          "base_uri": "https://localhost:8080/"
        },
        "id": "Qb2IYQ0QOSuQ",
        "outputId": "5de7b20e-7310-4499-d8fc-12e9b035a454"
      },
      "execution_count": 66,
      "outputs": [
        {
          "output_type": "stream",
          "name": "stdout",
          "text": [
            "sum =  30\n",
            "diff =  10\n",
            "Product =  200\n",
            "quo =  2.0\n",
            "exp =  10240000000000\n",
            "Remainder =  0\n"
          ]
        }
      ]
    },
    {
      "cell_type": "markdown",
      "source": [
        "2.Assignment Operators"
      ],
      "metadata": {
        "id": "1BYr21Phl4M0"
      }
    },
    {
      "cell_type": "code",
      "source": [
        "a=5\n",
        "print(a);\n",
        "a+=5;\n",
        "print(a);\n",
        "b=5;\n",
        "print(b);\n",
        "b-=5;\n",
        "print(b);"
      ],
      "metadata": {
        "colab": {
          "base_uri": "https://localhost:8080/"
        },
        "id": "VktFOIMwl86m",
        "outputId": "5d9ddef2-60ec-47be-855a-7e0c7fdbad74"
      },
      "execution_count": 1,
      "outputs": [
        {
          "output_type": "stream",
          "name": "stdout",
          "text": [
            "5\n",
            "10\n",
            "5\n",
            "0\n"
          ]
        }
      ]
    },
    {
      "cell_type": "markdown",
      "source": [
        "3.Comparison Operator"
      ],
      "metadata": {
        "id": "zBZ9ZIbmmQW-"
      }
    },
    {
      "cell_type": "code",
      "source": [
        "a=5\n",
        "b=10\n",
        "print(a==b)\n",
        "print(a!=b)\n",
        "print(a>b)\n",
        "print(a<b)"
      ],
      "metadata": {
        "colab": {
          "base_uri": "https://localhost:8080/"
        },
        "id": "bWxK8m8UmT0M",
        "outputId": "dc2679be-c4b1-4f12-a1d3-cb56626f604c"
      },
      "execution_count": 4,
      "outputs": [
        {
          "output_type": "stream",
          "name": "stdout",
          "text": [
            "False\n",
            "True\n",
            "False\n",
            "True\n"
          ]
        }
      ]
    },
    {
      "cell_type": "markdown",
      "source": [
        "4.Logical"
      ],
      "metadata": {
        "id": "6BHqk5HmmiEj"
      }
    },
    {
      "cell_type": "code",
      "source": [
        "a=10\n",
        "print(a>20 and a>5)\n",
        "print(a>20 or a>5)\n",
        "print(not(a>20 and a>5))"
      ],
      "metadata": {
        "colab": {
          "base_uri": "https://localhost:8080/"
        },
        "id": "Xn1zBBDwml90",
        "outputId": "b9ad0961-e3fc-4b42-ea35-f107fcd2c301"
      },
      "execution_count": 7,
      "outputs": [
        {
          "output_type": "stream",
          "name": "stdout",
          "text": [
            "False\n",
            "True\n",
            "True\n"
          ]
        }
      ]
    },
    {
      "cell_type": "markdown",
      "source": [
        "5.Identity"
      ],
      "metadata": {
        "id": "kUH2xhzvm8wN"
      }
    },
    {
      "cell_type": "code",
      "source": [
        "x=5\n",
        "y=5\n",
        "print(x is y)\n",
        "x=10\n",
        "y=15\n",
        "print(x is not y)"
      ],
      "metadata": {
        "colab": {
          "base_uri": "https://localhost:8080/"
        },
        "id": "jd32RTI8m-jJ",
        "outputId": "5932776a-0ede-4aaf-e3ce-dfff3a5f33d4"
      },
      "execution_count": 9,
      "outputs": [
        {
          "output_type": "stream",
          "name": "stdout",
          "text": [
            "True\n",
            "True\n"
          ]
        }
      ]
    },
    {
      "cell_type": "markdown",
      "source": [
        "6.MemberShip operation\n",
        "in and not in"
      ],
      "metadata": {
        "id": "a6daVlk8nKNA"
      }
    },
    {
      "cell_type": "code",
      "source": [
        "a=5\n",
        "b=10\n",
        "c=[1,2,3,4,5]\n",
        "print(a in c)\n",
        "print(b in c)\n",
        "print (a not in c)"
      ],
      "metadata": {
        "colab": {
          "base_uri": "https://localhost:8080/"
        },
        "id": "mSohC0sCnOgJ",
        "outputId": "84b769a2-98a6-4acf-cec7-ac8d8a5509b0"
      },
      "execution_count": 11,
      "outputs": [
        {
          "output_type": "stream",
          "name": "stdout",
          "text": [
            "True\n",
            "False\n",
            "False\n"
          ]
        }
      ]
    },
    {
      "cell_type": "markdown",
      "source": [
        "#If Else"
      ],
      "metadata": {
        "id": "hdgR1UBInn2d"
      }
    },
    {
      "cell_type": "code",
      "source": [
        "a=30\n",
        "b=50\n",
        "if(a>b):\n",
        "  print('a is the greatest number')\n",
        "else:\n",
        "  print('b is the greatest number')"
      ],
      "metadata": {
        "colab": {
          "base_uri": "https://localhost:8080/"
        },
        "id": "ICls0SzRnrJw",
        "outputId": "2758302a-4319-4bb3-b25d-c41b80742654"
      },
      "execution_count": 12,
      "outputs": [
        {
          "output_type": "stream",
          "name": "stdout",
          "text": [
            "b is the greatest number\n"
          ]
        }
      ]
    },
    {
      "cell_type": "code",
      "source": [
        "a=int(input('Enter the first number'));\n",
        "b=int(input('Enter the second number'));\n",
        "if(a>b):\n",
        "  print('a is the greatest number')\n",
        "else:\n",
        "  print('b is the greatest number')"
      ],
      "metadata": {
        "colab": {
          "base_uri": "https://localhost:8080/"
        },
        "id": "cidx9iCpn3po",
        "outputId": "5d375bcb-b47c-4c63-c86b-1c255d861846"
      },
      "execution_count": 13,
      "outputs": [
        {
          "output_type": "stream",
          "name": "stdout",
          "text": [
            "Enter the first number50\n",
            "Enter the second number34\n",
            "a is the greatest number\n"
          ]
        }
      ]
    },
    {
      "cell_type": "code",
      "source": [
        "a=15\n",
        "b=25\n",
        "c=30\n",
        "\n",
        "if(b<a>c):\n",
        "  print('a is the greatest number')\n",
        "elif(a<b>c):\n",
        "  print('b is the greatest number')\n",
        "else:\n",
        "  print('c is the greatest element')"
      ],
      "metadata": {
        "colab": {
          "base_uri": "https://localhost:8080/"
        },
        "id": "5hTEjPy8oHYi",
        "outputId": "085dabac-538c-4490-c4e7-e7dc2d69626c"
      },
      "execution_count": 14,
      "outputs": [
        {
          "output_type": "stream",
          "name": "stdout",
          "text": [
            "c is the greatest element\n"
          ]
        }
      ]
    },
    {
      "cell_type": "code",
      "source": [
        "a=20\n",
        "b=40\n",
        "c=60\n",
        "if(a>b):\n",
        "  if(a>c):\n",
        "    print('a is the greatest number')\n",
        "  else:\n",
        "    print('c is the greatest number')\n",
        "else:\n",
        "  if(b>c):\n",
        "    print('b is the greatest number')\n",
        "  else:\n",
        "    print('c is the greatest number');\n"
      ],
      "metadata": {
        "colab": {
          "base_uri": "https://localhost:8080/"
        },
        "id": "B8UHnBNBousF",
        "outputId": "a3a1385c-efe6-4201-e44e-4b6916beb9d2"
      },
      "execution_count": 15,
      "outputs": [
        {
          "output_type": "stream",
          "name": "stdout",
          "text": [
            "c is the greatest number\n"
          ]
        }
      ]
    },
    {
      "cell_type": "markdown",
      "source": [
        "#Loops"
      ],
      "metadata": {
        "id": "uWYU1v6rpZoO"
      }
    },
    {
      "cell_type": "code",
      "source": [
        "laptop1=int(input('Enter the price of the laptop : '));\n",
        "for i in range(5):\n",
        "  laptop_price=int(input('Enter the price of the laptop : '));"
      ],
      "metadata": {
        "colab": {
          "base_uri": "https://localhost:8080/"
        },
        "id": "AO6iR5fHpbiP",
        "outputId": "bf5ece2b-9174-486c-f93e-52977f002dea"
      },
      "execution_count": 19,
      "outputs": [
        {
          "name": "stdout",
          "output_type": "stream",
          "text": [
            "Enter the price of the laptop : 500000\n",
            "Enter the price of the laptop : 120000\n",
            "Enter the price of the laptop : 300000\n",
            "Enter the price of the laptop : 2300000\n",
            "Enter the price of the laptop : 2300000\n",
            "Enter the price of the laptop : 2398\n"
          ]
        }
      ]
    },
    {
      "cell_type": "code",
      "source": [
        "numbers=[50,100,150,200]\n",
        "for i in range(4):\n",
        "  print(numbers[i])\n",
        "#or\n",
        "for i in numbers:\n",
        "  print(i)"
      ],
      "metadata": {
        "colab": {
          "base_uri": "https://localhost:8080/"
        },
        "id": "MDQ3to-qqQyO",
        "outputId": "5bb30cca-d588-42dd-9dc5-079e5674107d"
      },
      "execution_count": 23,
      "outputs": [
        {
          "output_type": "stream",
          "name": "stdout",
          "text": [
            "50\n",
            "100\n",
            "150\n",
            "200\n",
            "50\n",
            "100\n",
            "150\n",
            "200\n"
          ]
        }
      ]
    },
    {
      "cell_type": "code",
      "source": [
        "#While\n",
        "i=0;\n",
        "while i<10:\n",
        "  print(i);\n",
        "  i+=1;"
      ],
      "metadata": {
        "colab": {
          "base_uri": "https://localhost:8080/"
        },
        "id": "4v8OW6u-qoCL",
        "outputId": "8655a96d-b730-48e0-c1fa-4ac07014262c"
      },
      "execution_count": 27,
      "outputs": [
        {
          "output_type": "stream",
          "name": "stdout",
          "text": [
            "0\n",
            "1\n",
            "2\n",
            "3\n",
            "4\n",
            "5\n",
            "6\n",
            "7\n",
            "8\n",
            "9\n"
          ]
        }
      ]
    },
    {
      "cell_type": "code",
      "source": [
        "i=5\n",
        "\n",
        "while i<3:\n",
        "  print(i);\n",
        "  i+=1;"
      ],
      "metadata": {
        "id": "eZFmYRy4tjoH"
      },
      "execution_count": 28,
      "outputs": []
    },
    {
      "cell_type": "markdown",
      "source": [],
      "metadata": {
        "id": "K0KJpFh0t0Y1"
      }
    },
    {
      "cell_type": "markdown",
      "source": [
        "#Function"
      ],
      "metadata": {
        "id": "2wy8hwqMt197"
      }
    },
    {
      "cell_type": "code",
      "source": [
        "#Factorial of a Number\n",
        "number=int(input('Enter a number to find its factorial '))\n",
        "factorial=1;\n",
        "if number==0:\n",
        "  print('The factorial of 0 is 1 ');\n",
        "else:\n",
        "  for i in range(1,number+1):#1 to number\n",
        "    factorial=factorial*i\n",
        "  print('The factorial of ',number, 'is ', factorial);"
      ],
      "metadata": {
        "colab": {
          "base_uri": "https://localhost:8080/"
        },
        "id": "vRlt1Exht414",
        "outputId": "b2a96901-159b-47d1-9b5e-4c2e56acdc66"
      },
      "execution_count": 31,
      "outputs": [
        {
          "output_type": "stream",
          "name": "stdout",
          "text": [
            "Enter a number to find its factorial 5\n",
            "The factorial of  5 is  120\n"
          ]
        }
      ]
    },
    {
      "cell_type": "code",
      "source": [
        "#Factorial Function\n",
        "def factorial_val(num):\n",
        "  factorial=1\n",
        "  if num==0:\n",
        "    return factorial\n",
        "  else:\n",
        "    for i in range(1,number+1):\n",
        "      factorial=factorial*i;\n",
        "    return factorial"
      ],
      "metadata": {
        "id": "ahNHBu43vQ69"
      },
      "execution_count": 32,
      "outputs": []
    },
    {
      "cell_type": "code",
      "source": [
        "print(factorial_val(5));"
      ],
      "metadata": {
        "colab": {
          "base_uri": "https://localhost:8080/"
        },
        "id": "QBZ15M3uvrm_",
        "outputId": "6878b3cb-05fb-4e4d-8682-a3b01b93c661"
      },
      "execution_count": 33,
      "outputs": [
        {
          "output_type": "stream",
          "name": "stdout",
          "text": [
            "120\n"
          ]
        }
      ]
    }
  ]
}